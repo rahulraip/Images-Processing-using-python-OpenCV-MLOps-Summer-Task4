{
 "cells": [
  {
   "cell_type": "code",
   "execution_count": 10,
   "id": "c2e48d4b",
   "metadata": {},
   "outputs": [],
   "source": [
    "import cv2\n",
    "import numpy as np"
   ]
  },
  {
   "cell_type": "code",
   "execution_count": 12,
   "id": "97c9da16",
   "metadata": {},
   "outputs": [],
   "source": [
    "frame  = np.zeros([600,600,3], np.uint8)\n",
    "# for creating black image\n",
    "\n",
    "#points used in img\n",
    "pt1 = (200,100)\n",
    "pt2 = (100,200)\n",
    "pt3 = (300,200)\n",
    "pt4 = (400,100)\n",
    "pt5 = (500,200)\n",
    "sq1 = (250,200)\n",
    "sq2 = (250,400)\n",
    "rec1 = (150,200)\n",
    "rec2 = (450,400)\n",
    "\n",
    "#COLOR \n",
    "clr = (0,255,0)\n",
    "\n",
    "\n",
    "#defined function\n",
    "def drawline(point1,point2):\n",
    "    return cv2.line(frame,point1,point2,clr,2)\n",
    "\n",
    "\n",
    "#make lines on img\n",
    "drawImg = drawline(pt1,pt2)\n",
    "drawImg = drawline(pt1,pt3)\n",
    "drawImg = drawline(pt2,pt3)\n",
    "drawImg = drawline(pt1,pt4)\n",
    "drawImg = drawline(pt3,pt5)\n",
    "drawImg = drawline(pt4,pt5)\n",
    "drawImg = drawline(pt3,pt5)\n",
    "drawImg = drawline(sq1,sq2)\n",
    "drawImg = cv2.rectangle(frame,rec1,rec2,clr,2)\n",
    "\n",
    "\n",
    "#show the image\n",
    "cv2.imshow('image', drawImg)\n",
    "cv2.waitKey()\n",
    "cv2.destroyAllWindows()"
   ]
  },
  {
   "cell_type": "code",
   "execution_count": null,
   "id": "f7398066",
   "metadata": {},
   "outputs": [],
   "source": []
  },
  {
   "cell_type": "code",
   "execution_count": null,
   "id": "61dfb29b",
   "metadata": {},
   "outputs": [],
   "source": []
  },
  {
   "cell_type": "code",
   "execution_count": null,
   "id": "3a53aeb7",
   "metadata": {},
   "outputs": [],
   "source": []
  },
  {
   "cell_type": "code",
   "execution_count": null,
   "id": "f77a86fc",
   "metadata": {},
   "outputs": [],
   "source": []
  },
  {
   "cell_type": "code",
   "execution_count": null,
   "id": "94745ac3",
   "metadata": {},
   "outputs": [],
   "source": []
  },
  {
   "cell_type": "code",
   "execution_count": 4,
   "id": "7dc0eca7",
   "metadata": {},
   "outputs": [],
   "source": [
    "frame  = np.zeros([600,600,3], np.uint8)\n",
    "\n",
    "pt1 = (300,150)\n",
    "pt2 = (300,330)\n",
    "pt3 = (300-70,350+70)\n",
    "pt4 = (300+70,350+70)\n",
    "pt5 = (300-20,350+70+70)\n",
    "pt6 = (300+70+70,350+70)\n",
    "\n",
    "hd0 = (300,200)\n",
    "lhd1 = (300-70,250)\n",
    "lhd2 = (300-70-40,250-70)\n",
    "rhd1 = (300+70,250-70)\n",
    "rhd2 = (300+70+70,250)\n",
    "\n",
    "clr = (0,255,0)\n",
    "\n",
    "\n",
    "def drawline(point1,point2):\n",
    "    return cv2.line(frame,point1,point2,clr,2)\n",
    "\n",
    "drawToy = cv2.circle(frame, (300,100),50,clr,2)\n",
    "drawImg = drawline(pt1,pt2)\n",
    "drawImg = drawline(pt2,pt3)\n",
    "drawImg = drawline(pt2,pt4)\n",
    "drawImg = drawline(pt3,pt5)\n",
    "drawImg = drawline(pt4,pt6)\n",
    "\n",
    "drawImg = drawline(hd0,lhd1)\n",
    "drawImg = drawline(lhd1,lhd2)\n",
    "drawImg = drawline(hd0,rhd1)\n",
    "drawImg = drawline(rhd1,rhd2)\n",
    "\n",
    "\n",
    "cv2.imshow('image', drawImg)\n",
    "cv2.waitKey()\n",
    "cv2.destroyAllWindows()"
   ]
  },
  {
   "cell_type": "code",
   "execution_count": null,
   "id": "0d811992",
   "metadata": {},
   "outputs": [],
   "source": []
  }
 ],
 "metadata": {
  "kernelspec": {
   "display_name": "Python 3",
   "language": "python",
   "name": "python3"
  },
  "language_info": {
   "codemirror_mode": {
    "name": "ipython",
    "version": 3
   },
   "file_extension": ".py",
   "mimetype": "text/x-python",
   "name": "python",
   "nbconvert_exporter": "python",
   "pygments_lexer": "ipython3",
   "version": "3.8.5"
  }
 },
 "nbformat": 4,
 "nbformat_minor": 5
}
