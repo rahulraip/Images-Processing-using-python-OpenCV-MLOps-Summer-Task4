{
 "cells": [
  {
   "cell_type": "code",
   "execution_count": 9,
   "id": "e875721e",
   "metadata": {},
   "outputs": [],
   "source": [
    "import cv2\n",
    "import numpy as np"
   ]
  },
  {
   "cell_type": "code",
   "execution_count": 10,
   "id": "5e425d1b",
   "metadata": {},
   "outputs": [],
   "source": [
    "# load image\n",
    "pic1 = cv2.imread('pics/black_stone.png')\n",
    "pic2 = cv2.imread('pics/white-stone.png')"
   ]
  },
  {
   "cell_type": "code",
   "execution_count": 11,
   "id": "89341d66",
   "metadata": {},
   "outputs": [],
   "source": [
    "# concat two images horizontally\n",
    "horiPic = np.concatenate((pic1,pic2),axis=1)\n",
    "\n",
    "cv2.imshow('Horizontal', horiPic)\n",
    "cv2.waitKey()\n",
    "cv2.destroyAllWindows()"
   ]
  },
  {
   "cell_type": "code",
   "execution_count": 12,
   "id": "2a0c5076",
   "metadata": {},
   "outputs": [],
   "source": [
    "# concat two images horizontally\n",
    "VertiPic = np.concatenate((pic1,pic2),axis=0)\n",
    "\n",
    "cv2.imshow('Vertical', VertiPic)\n",
    "cv2.waitKey()\n",
    "cv2.destroyAllWindows()"
   ]
  },
  {
   "cell_type": "code",
   "execution_count": null,
   "id": "8b07f6cf",
   "metadata": {},
   "outputs": [],
   "source": []
  }
 ],
 "metadata": {
  "kernelspec": {
   "display_name": "Python 3",
   "language": "python",
   "name": "python3"
  },
  "language_info": {
   "codemirror_mode": {
    "name": "ipython",
    "version": 3
   },
   "file_extension": ".py",
   "mimetype": "text/x-python",
   "name": "python",
   "nbconvert_exporter": "python",
   "pygments_lexer": "ipython3",
   "version": "3.8.5"
  }
 },
 "nbformat": 4,
 "nbformat_minor": 5
}
