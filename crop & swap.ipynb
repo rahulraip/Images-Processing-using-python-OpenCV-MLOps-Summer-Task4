{
 "cells": [
  {
   "cell_type": "code",
   "execution_count": 4,
   "id": "3b491a84",
   "metadata": {},
   "outputs": [],
   "source": [
    "import cv2"
   ]
  },
  {
   "cell_type": "code",
   "execution_count": 5,
   "id": "b1534889",
   "metadata": {},
   "outputs": [],
   "source": [
    "#read two different image\n",
    "pic1 = cv2.imread('pics/black_stone.png') \n",
    "pic2 = cv2.imread('pics/white-stone.png')\n",
    "\n",
    "cv2.imshow('pic1', pic1)\n",
    "cv2.imshow('pic2', pic2)\n",
    "cv2.waitKey()\n",
    "cv2.destroyAllWindows()"
   ]
  },
  {
   "cell_type": "code",
   "execution_count": 6,
   "id": "a54ea6a7",
   "metadata": {},
   "outputs": [],
   "source": [
    "cp1 = pic1[150:350,250:550]    #black\n",
    "pic2[180:380,50:350] = cp1\n",
    "\n",
    "cv2.imshow('pic2', pic2)\n",
    "cv2.waitKey()\n",
    "cv2.destroyAllWindows()"
   ]
  },
  {
   "cell_type": "code",
   "execution_count": 7,
   "id": "1871eeea",
   "metadata": {},
   "outputs": [],
   "source": [
    "pic1 = cv2.imread('pics/black_stone.png') \n",
    "pic2 = cv2.imread('pics/white-stone.png')"
   ]
  },
  {
   "cell_type": "code",
   "execution_count": 8,
   "id": "631ca180",
   "metadata": {},
   "outputs": [],
   "source": [
    "cp2 = pic2[180:380,50:350]    #white\n",
    "pic1[150:350,250:550] = cp2\n",
    "\n",
    "\n",
    "cv2.imshow('pic1', pic1)\n",
    "cv2.waitKey()\n",
    "cv2.destroyAllWindows()"
   ]
  },
  {
   "cell_type": "code",
   "execution_count": null,
   "id": "e652689f",
   "metadata": {},
   "outputs": [],
   "source": []
  },
  {
   "cell_type": "code",
   "execution_count": null,
   "id": "b468f515",
   "metadata": {},
   "outputs": [],
   "source": []
  }
 ],
 "metadata": {
  "kernelspec": {
   "display_name": "Python 3",
   "language": "python",
   "name": "python3"
  },
  "language_info": {
   "codemirror_mode": {
    "name": "ipython",
    "version": 3
   },
   "file_extension": ".py",
   "mimetype": "text/x-python",
   "name": "python",
   "nbconvert_exporter": "python",
   "pygments_lexer": "ipython3",
   "version": "3.8.5"
  }
 },
 "nbformat": 4,
 "nbformat_minor": 5
}
